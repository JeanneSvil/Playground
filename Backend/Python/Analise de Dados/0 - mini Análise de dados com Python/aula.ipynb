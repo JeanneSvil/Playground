{
 "cells": [
  {
   "cell_type": "code",
   "execution_count": null,
   "id": "d5f280b5",
   "metadata": {},
   "outputs": [],
   "source": [
    "import pandas as pd\n",
    "import plotly.express as px\n",
    "\n",
    "tabela = pd.read_csv(\".\\ClientesBanco.csv\", encoding=\"latin1\")\n",
    "\n",
    "tabela = tabela.drop(\"CLIENTNUM\", axis=1)\n",
    "\n",
    "print(tabela)"
   ]
  },
  {
   "cell_type": "code",
   "execution_count": null,
   "id": "eb2bcd27",
   "metadata": {},
   "outputs": [],
   "source": [
    "tabela = tabela.dropna()\n",
    "print(tabela.info())\n"
   ]
  },
  {
   "cell_type": "code",
   "execution_count": null,
   "id": "2c37bbbd",
   "metadata": {},
   "outputs": [],
   "source": [
    "print(tabela.describe().round(1)) #descrição    arrendoandamento e em quantas casas são\n"
   ]
  },
  {
   "cell_type": "code",
   "execution_count": null,
   "id": "edda60f7",
   "metadata": {},
   "outputs": [],
   "source": [
    "#avaliar como esta a divisão entre Clientes x Cancelados\n",
    "qtde_categoria = tabela[\"Categoria\"].value_counts()\n",
    "print(qtde_categoria)"
   ]
  },
  {
   "cell_type": "code",
   "execution_count": null,
   "id": "7b83a21c",
   "metadata": {},
   "outputs": [],
   "source": [
    "#avaliar como esta a divisão entre Clientes x Cancelados, percentual\n",
    "qtde_categoria_perc = tabela[\"Categoria\"].value_counts(normalize=True)\n",
    "print(qtde_categoria_perc)"
   ]
  },
  {
   "cell_type": "code",
   "execution_count": null,
   "id": "1677c721",
   "metadata": {},
   "outputs": [],
   "source": [
    "#descobrir o motivo de cancelamento (comparação entre clientes e cancelados)\n",
    "grafico = px.histogram(tabela, x=\"Idade\", color=\"Categoria\")\n",
    "grafico.show(renderer=\"browser\")"
   ]
  },
  {
   "cell_type": "code",
   "execution_count": 10,
   "id": "89b92bd6",
   "metadata": {},
   "outputs": [],
   "source": [
    "for coluna in tabela:\n",
    "    grafico = px.histogram(tabela, x=coluna, color=\"Categoria\")\n",
    "    grafico.show(renderer=\"browser\")"
   ]
  },
  {
   "cell_type": "code",
   "execution_count": null,
   "id": "c1359818",
   "metadata": {},
   "outputs": [],
   "source": []
  }
 ],
 "metadata": {
  "kernelspec": {
   "display_name": "Python 3",
   "language": "python",
   "name": "python3"
  },
  "language_info": {
   "codemirror_mode": {
    "name": "ipython",
    "version": 3
   },
   "file_extension": ".py",
   "mimetype": "text/x-python",
   "name": "python",
   "nbconvert_exporter": "python",
   "pygments_lexer": "ipython3",
   "version": "3.12.10"
  }
 },
 "nbformat": 4,
 "nbformat_minor": 5
}
